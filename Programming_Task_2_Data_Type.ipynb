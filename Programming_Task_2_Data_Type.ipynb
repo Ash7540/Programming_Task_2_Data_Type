{
 "cells": [
  {
   "cell_type": "code",
   "execution_count": null,
   "id": "83e57f98",
   "metadata": {},
   "outputs": [],
   "source": [
    "# introduction to sets\n",
    "\n",
    "def average(array):\n",
    "    # your code goes here\n",
    "    arr1 = set(array)\n",
    "    return sum(arr1)/len(arr1)\n",
    "\n",
    "if __name__ == '__main__':\n",
    "    n = int(input())\n",
    "    arr = list(map(int, input().split()))\n",
    "    result = average(arr)\n",
    "    print(result)"
   ]
  },
  {
   "cell_type": "code",
   "execution_count": null,
   "id": "1d3b380c",
   "metadata": {},
   "outputs": [],
   "source": [
    "# Set.add()\n",
    "a = int(input())\n",
    "b = []\n",
    "for i in range(a):\n",
    "    ent = input()\n",
    "    b.append(ent)\n",
    "    \n",
    "result = len(set(b))\n",
    "\n",
    "print(result)"
   ]
  },
  {
   "cell_type": "code",
   "execution_count": null,
   "id": "d7c7b75c",
   "metadata": {},
   "outputs": [],
   "source": [
    "#no Idea!\n",
    "N,M = list(map(int, input().split()))\n",
    "arr, A, B = list(map(int, input().split())), set(map(int, input().split())), set(map(int, input().split()))\n",
    "\n",
    "X = set(arr) & A\n",
    "Y = set(arr) & B\n",
    "C = 0\n",
    "for a in arr:\n",
    "    if a in X: \n",
    "        C += 1\n",
    "    elif a in Y: \n",
    "        C -= 1\n",
    "\n",
    "print(C)"
   ]
  },
  {
   "cell_type": "code",
   "execution_count": null,
   "id": "2f4ddec3",
   "metadata": {},
   "outputs": [],
   "source": [
    "#Symmetric Differnce\n",
    "\n",
    "input()\n",
    "a = set(map(int, input().split()))\n",
    "input()\n",
    "b = set(map(int, input().split()))\n",
    "answer = sorted(list(a.union(b).difference(a.intersection(b))))\n",
    "for i in answer:\n",
    "    print(i)"
   ]
  },
  {
   "cell_type": "code",
   "execution_count": null,
   "id": "8221ef35",
   "metadata": {},
   "outputs": [],
   "source": [
    "#Set .discard(), .remove() & .pop()\n",
    "N, S = int(input()), set(map(int, input().split()[::-1]))\n",
    "for _ in range(int(input())):\n",
    "    met, *args = input().split()\n",
    "    getattr(S, met)(*map(int, *args)) if args else getattr(S, met)()\n",
    "print(sum(S))"
   ]
  },
  {
   "cell_type": "code",
   "execution_count": null,
   "id": "12107441",
   "metadata": {},
   "outputs": [],
   "source": [
    "#Set .union() Operation\n",
    "n, A = (int(input()), set(map(int, input().split())))\n",
    "m, B = (int(input()), set(map(int, input().split())))\n",
    "print(len(A.union(B)))"
   ]
  },
  {
   "cell_type": "code",
   "execution_count": null,
   "id": "35085592",
   "metadata": {},
   "outputs": [],
   "source": [
    "#Set .intersection() Operation\n",
    "input()\n",
    "m = set(input().split())\n",
    "input()\n",
    "print(len(m.intersection(input().split())))"
   ]
  },
  {
   "cell_type": "code",
   "execution_count": null,
   "id": "df21a97a",
   "metadata": {},
   "outputs": [],
   "source": [
    "#Set .difference() Operation\n",
    "input()\n",
    "m = set(input().split())\n",
    "input()\n",
    "print(len(m.difference(input().split())))"
   ]
  },
  {
   "cell_type": "code",
   "execution_count": null,
   "id": "1cccef21",
   "metadata": {},
   "outputs": [],
   "source": [
    "#Set .symmetric_difference() Operation\n",
    "input()\n",
    "m = set(input().split())\n",
    "input()\n",
    "print(len(m.symmetric_difference(input().split())))"
   ]
  },
  {
   "cell_type": "code",
   "execution_count": null,
   "id": "4053e731",
   "metadata": {},
   "outputs": [],
   "source": [
    "#Set Mutations\n",
    "A = int(input())\n",
    "B = set(map(int, input().split()))\n",
    "C = int(input())\n",
    "\n",
    "dic = {}\n",
    "\n",
    "for i in range(C):\n",
    "    query = input()\n",
    "    element = set(map(int, input().split()))\n",
    "    dic[query] = element\n",
    "    \n",
    "for j, k in dic.items():\n",
    "        comm, length = j.split()\n",
    "        length = int(length)\n",
    "        \n",
    "        if comm == 'intersection_update':\n",
    "            B.intersection_update(k)\n",
    "        \n",
    "        elif comm == 'update':\n",
    "            B.update(k)\n",
    "        \n",
    "        elif comm == 'symmetric_difference_update':\n",
    "            B.symmetric_difference_update(k)\n",
    "        \n",
    "        elif comm == 'difference_update':\n",
    "            B.difference_update(k)\n",
    "\n",
    "print(sum(B))"
   ]
  },
  {
   "cell_type": "code",
   "execution_count": null,
   "id": "fc6717b2",
   "metadata": {},
   "outputs": [],
   "source": [
    "#The Captain's Room\n",
    "from collections import Counter\n",
    "n=int(input())\n",
    "k=[i for i,j in Counter(input().split()).items() if j!=n]\n",
    "print(k[0])"
   ]
  },
  {
   "cell_type": "code",
   "execution_count": null,
   "id": "17476e41",
   "metadata": {},
   "outputs": [],
   "source": [
    "#Check Subset\n",
    "n=int(input())\n",
    "for j in range(n):\n",
    "    a=[]\n",
    "    b=[]\n",
    "    c=0\n",
    "    d=int(input())\n",
    "    a=list(map(int,input().split()))\n",
    "    d1=int(input())\n",
    "    b=list(map(int,input().split()))\n",
    "    for i in a:\n",
    "        if i in b:\n",
    "            c=c+1\n",
    "    if c==len(a):\n",
    "        print(True)\n",
    "    else:\n",
    "        print(False)  "
   ]
  },
  {
   "cell_type": "code",
   "execution_count": null,
   "id": "f95350ff",
   "metadata": {},
   "outputs": [],
   "source": [
    "#Check Strict Superset\n",
    "a = set(map(int, input().split()))\n",
    "res = True\n",
    "for j in range(int(input())):\n",
    "    if a.issuperset(set(map(int, input().split()))) is not True:\n",
    "        res = False\n",
    "        break\n",
    "print(res)"
   ]
  }
 ],
 "metadata": {
  "kernelspec": {
   "display_name": "Python 3 (ipykernel)",
   "language": "python",
   "name": "python3"
  },
  "language_info": {
   "codemirror_mode": {
    "name": "ipython",
    "version": 3
   },
   "file_extension": ".py",
   "mimetype": "text/x-python",
   "name": "python",
   "nbconvert_exporter": "python",
   "pygments_lexer": "ipython3",
   "version": "3.9.12"
  }
 },
 "nbformat": 4,
 "nbformat_minor": 5
}
